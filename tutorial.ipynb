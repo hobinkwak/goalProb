{
 "cells": [
  {
   "cell_type": "markdown",
   "id": "76de8bcc",
   "metadata": {},
   "source": [
    "# import"
   ]
  },
  {
   "cell_type": "code",
   "execution_count": 1,
   "id": "43c42696",
   "metadata": {},
   "outputs": [],
   "source": [
    "import pandas as pd\n",
    "import numpy as np\n",
    "from model import GoalProbEvaluator\n",
    "import yfinance as yf\n",
    "\n",
    "from utils import get_eom_dates"
   ]
  },
  {
   "cell_type": "markdown",
   "id": "4e78dda6",
   "metadata": {},
   "source": [
    "# All Weather Portfolio"
   ]
  },
  {
   "cell_type": "code",
   "execution_count": 2,
   "id": "aeeb9da5",
   "metadata": {},
   "outputs": [
    {
     "name": "stdout",
     "output_type": "stream",
     "text": [
      "[*********************100%***********************]  5 of 5 completed\n"
     ]
    }
   ],
   "source": [
    "# ALL WEATHER PORTFOLIO (MONTHLY REBALANCED)\n",
    "df = yf.download(['SPY', 'TLT', 'IEF', 'GLD', 'DBC'])['Adj Close'].dropna()\n",
    "rtns = np.log(df / df.shift(1)).fillna(0)\n",
    "\n",
    "rebal_dates = get_eom_dates(rtns, start='2008-1-1', end='2024-6-30')\n",
    "weights = pd.DataFrame(np.array([[0.3, 0.4, 0.15, 0.075, 0.075]] * len(rebal_dates)), columns=rtns.columns,\n",
    "                       index=rebal_dates)"
   ]
  },
  {
   "cell_type": "markdown",
   "id": "6b75b8d8",
   "metadata": {},
   "source": [
    "# Config"
   ]
  },
  {
   "cell_type": "markdown",
   "id": "9823442b",
   "metadata": {},
   "source": [
    "- initial_W : Initial capital\n",
    "\n",
    "\n",
    "- T : Number of rebalancing times\n",
    "\n",
    "\n",
    "- h : 1 if yearly, 1/4 if quarterly, 1/12 if monthly\n",
    "\n",
    "\n",
    "- rho : The range of Wealth to be generated\n",
    "    - The higher the rho value, the lower the probability of generating such Wealth (e.g., 3sigma, 4sigma, ...)\n",
    "    \n",
    "    \n",
    "- bankrupt : The level of Wealth considered to be practical bankruptcy\n",
    "\n",
    "\n",
    "- imax : The number of Wealth to be generated at each time point (T=t)\n",
    "    -The more there are, the longer the optimization time\n",
    "    \n",
    "    \n",
    "- lb:  Lower bound for each asset\n",
    "\n",
    "\n",
    "- ub:  Upper bound for each asset"
   ]
  },
  {
   "cell_type": "code",
   "execution_count": 19,
   "id": "879675d7",
   "metadata": {},
   "outputs": [],
   "source": [
    "# INITIALIZE CONFIG\n",
    "config = {\n",
    "    'initial_W': 100,\n",
    "    'T': len(weights.index),\n",
    "    'bankrupt': 5,  # bankruptcy level\n",
    "    'h': 1 / 12,  # monthly / if you want to calculate quarterly, set it to 1 / 4\n",
    "    'imax': 1000,\n",
    "    'rho': 2.5,   # a scale parameter\n",
    "    'lb': [0.25, 0.35, 0.10, 0.025, 0.025],  # A little buffer\n",
    "    'ub': [0.35, 0.45, 0.20, 0.125, 0.125]\n",
    "}"
   ]
  },
  {
   "cell_type": "markdown",
   "id": "3aa6e0a4",
   "metadata": {},
   "source": [
    "- er_method: method for estimating expected returns of assets\n",
    "- cov_method: method for estimating Covariances\n",
    "- window: window size"
   ]
  },
  {
   "cell_type": "code",
   "execution_count": 20,
   "id": "48b9c1db",
   "metadata": {},
   "outputs": [],
   "source": [
    "est_config = {\n",
    "    'er_method': 'bayes_stein',\n",
    "    'cov_method': 'epo',\n",
    "    'window': 252 * 30\n",
    "}"
   ]
  },
  {
   "cell_type": "markdown",
   "id": "ca2133dc",
   "metadata": {},
   "source": [
    "# CashFlows"
   ]
  },
  {
   "cell_type": "code",
   "execution_count": 21,
   "id": "3aa6ef80",
   "metadata": {},
   "outputs": [],
   "source": [
    "# Include the scheduled cash flows\n",
    "cashflows = np.ones((config[\"T\"],)) * 0"
   ]
  },
  {
   "cell_type": "markdown",
   "id": "1485cd89",
   "metadata": {},
   "source": [
    "# Run"
   ]
  },
  {
   "cell_type": "code",
   "execution_count": 22,
   "id": "a68bb3cc",
   "metadata": {},
   "outputs": [
    {
     "name": "stdout",
     "output_type": "stream",
     "text": [
      "********************\n",
      "WEALTH STATES GENERATED\n",
      "********************\n",
      "********************\n",
      "PATHS GENERATED\n",
      "********************\n",
      "Expected Wealth: 100.0 -> 101.0932 -> 102.3122 -> 103.4061 -> 104.3896 -> 105.3946 -> 106.5619 -> 107.454 -> 108.1408 -> 108.6392 -> 108.5655 -> 108.6174 -> 108.8226 -> 109.0236 -> 109.249 -> 109.5365 -> 109.8554 -> 110.3472 -> 110.8469 -> 111.352 -> 111.9267 -> 112.5178 -> 113.2239 -> 114.0549 -> 114.7759 -> 115.4178 -> 116.0851 -> 116.76 -> 117.5481 -> 118.2965 -> 119.045 -> 119.7873 -> 120.6073 -> 121.5532 -> 122.5302 -> 123.496 -> 124.5001 -> 125.4666 -> 126.5204 -> 127.5794 -> 128.7583 -> 129.9077 -> 130.9869 -> 132.1573 -> 133.4419 -> 134.5397 -> 135.7139 -> 136.8395 -> 137.8834 -> 139.0467 -> 140.2751 -> 141.3964 -> 142.5244 -> 143.5372 -> 144.548 -> 145.6617 -> 146.8042 -> 147.9902 -> 149.1004 -> 150.229 -> 151.3052 -> 152.4019 -> 153.4532 -> 154.5275 -> 155.5675 -> 156.5267 -> 157.3469 -> 158.2511 -> 159.1998 -> 160.1033 -> 161.0266 -> 161.883 -> 162.7291 -> 163.6014 -> 164.5836 -> 165.5353 -> 166.5073 -> 167.49 -> 168.504 -> 169.4779 -> 170.4657 -> 171.3792 -> 172.2628 -> 173.1351 -> 173.9451 -> 174.7705 -> 175.5881 -> 176.3717 -> 177.1839 -> 177.9724 -> 178.7385 -> 179.4119 -> 180.0823 -> 180.738 -> 181.4285 -> 182.0306 -> 182.5962 -> 183.178 -> 183.8432 -> 184.5541 -> 185.3479 -> 186.1253 -> 186.9968 -> 187.8356 -> 188.6839 -> 189.5472 -> 190.3775 -> 191.134 -> 191.9129 -> 192.7104 -> 193.5559 -> 194.3765 -> 195.2072 -> 196.0443 -> 196.8491 -> 197.7056 -> 198.5808 -> 199.465 -> 200.3655 -> 201.2838 -> 202.2246 -> 203.1955 -> 204.1417 -> 205.0853 -> 206.044 -> 207.0259 -> 207.9666 -> 208.8972 -> 209.8378 -> 210.7749 -> 211.6901 -> 212.5566 -> 213.425 -> 214.3727 -> 215.342 -> 216.3181 -> 217.2957 -> 218.2715 -> 219.3248 -> 220.3718 -> 221.4705 -> 222.5476 -> 223.6352 -> 224.722 -> 225.8539 -> 226.9804 -> 228.1023 -> 229.1578 -> 230.232 -> 231.3495 -> 232.5301 -> 233.8147 -> 235.14 -> 236.4256 -> 237.6801 -> 238.9744 -> 240.3281 -> 241.6799 -> 243.0418 -> 244.3641 -> 245.7761 -> 247.2451 -> 248.7028 -> 250.2187 -> 251.7191 -> 253.1902 -> 254.73 -> 256.2427 -> 257.7951 -> 259.3439 -> 260.9377 -> 262.5992 -> 264.2206 -> 265.8467 -> 267.4072 -> 268.9782 -> 270.5257 -> 271.9727 -> 273.4278 -> 274.9014 -> 276.3854 -> 277.9284 -> 279.4129 -> 280.9623 -> 282.5208 -> 284.0378 -> 285.5479 -> 287.1229 -> 288.6789 -> 290.1933 -> 291.6971 -> 293.2542 -> 294.8313 -> 296.4065 -> 297.976 -> 299.6259 -> 301.2977 -> 302.9841 -> 304.7029\n",
      "\n"
     ]
    }
   ],
   "source": [
    "model = GoalProbEvaluator(rtns, weights, config, est_config)\n",
    "model.add_cashflow(cashflows)\n",
    "\n",
    "model.fit(fit_dist=True, display_result=True)"
   ]
  },
  {
   "cell_type": "markdown",
   "id": "dcb2e693",
   "metadata": {},
   "source": [
    "# Evaluate"
   ]
  },
  {
   "cell_type": "markdown",
   "id": "06e223b6",
   "metadata": {},
   "source": [
    "- evaluate() arguments\n",
    "    - goals: scalar if single goal, iterable objects(e.g. tuple, list, etc.) if multi goals\n",
    "    - init_wealth: wealth value at start_idx (efault value is None, which means config['initial_W'])\n",
    "    - start_idx: index value of the datetime at which the probability is calculated (default value is 0)\n",
    "    - end_idx: index value of the datetime at which the goals are expected to achieve ((default value is -1)"
   ]
  },
  {
   "cell_type": "markdown",
   "id": "affbd62a",
   "metadata": {},
   "source": [
    "## Case 1"
   ]
  },
  {
   "cell_type": "markdown",
   "id": "9ba7e4ab",
   "metadata": {},
   "source": [
    "- An investor wants to know the probability that the wealth, which was 100(default) in the very beginning, will be 300 at the final datetime"
   ]
  },
  {
   "cell_type": "code",
   "execution_count": 26,
   "id": "97e27d8a",
   "metadata": {},
   "outputs": [
    {
     "data": {
      "text/html": [
       "<div>\n",
       "<style scoped>\n",
       "    .dataframe tbody tr th:only-of-type {\n",
       "        vertical-align: middle;\n",
       "    }\n",
       "\n",
       "    .dataframe tbody tr th {\n",
       "        vertical-align: top;\n",
       "    }\n",
       "\n",
       "    .dataframe thead th {\n",
       "        text-align: right;\n",
       "    }\n",
       "</style>\n",
       "<table border=\"1\" class=\"dataframe\">\n",
       "  <thead>\n",
       "    <tr style=\"text-align: right;\">\n",
       "      <th></th>\n",
       "      <th>start date</th>\n",
       "      <th>end date</th>\n",
       "      <th>wealth(start)</th>\n",
       "      <th>wealth(end)</th>\n",
       "      <th>Probability</th>\n",
       "    </tr>\n",
       "  </thead>\n",
       "  <tbody>\n",
       "    <tr>\n",
       "      <th>0</th>\n",
       "      <td>2008-01-31</td>\n",
       "      <td>END</td>\n",
       "      <td>100</td>\n",
       "      <td>300</td>\n",
       "      <td>0.4773</td>\n",
       "    </tr>\n",
       "  </tbody>\n",
       "</table>\n",
       "</div>"
      ],
      "text/plain": [
       "  start date end date  wealth(start)  wealth(end)  Probability\n",
       "0 2008-01-31      END            100          300       0.4773"
      ]
     },
     "execution_count": 26,
     "metadata": {},
     "output_type": "execute_result"
    }
   ],
   "source": [
    "model.evaluate(goals=300)"
   ]
  },
  {
   "cell_type": "markdown",
   "id": "261739be",
   "metadata": {},
   "source": [
    "- The probability is evaluated to 47.73%"
   ]
  },
  {
   "cell_type": "markdown",
   "id": "92126ac4",
   "metadata": {},
   "source": [
    "## Case 2"
   ]
  },
  {
   "cell_type": "markdown",
   "id": "ba705696",
   "metadata": {},
   "source": [
    "- An investor wants to know the probability that the wealth, which was 200 in January 2020, will be 300 at the final datetime"
   ]
  },
  {
   "cell_type": "code",
   "execution_count": 27,
   "id": "97c37b76",
   "metadata": {},
   "outputs": [
    {
     "data": {
      "text/html": [
       "<div>\n",
       "<style scoped>\n",
       "    .dataframe tbody tr th:only-of-type {\n",
       "        vertical-align: middle;\n",
       "    }\n",
       "\n",
       "    .dataframe tbody tr th {\n",
       "        vertical-align: top;\n",
       "    }\n",
       "\n",
       "    .dataframe thead th {\n",
       "        text-align: right;\n",
       "    }\n",
       "</style>\n",
       "<table border=\"1\" class=\"dataframe\">\n",
       "  <thead>\n",
       "    <tr style=\"text-align: right;\">\n",
       "      <th></th>\n",
       "      <th>start date</th>\n",
       "      <th>end date</th>\n",
       "      <th>wealth(start)</th>\n",
       "      <th>wealth(end)</th>\n",
       "      <th>Probability</th>\n",
       "    </tr>\n",
       "  </thead>\n",
       "  <tbody>\n",
       "    <tr>\n",
       "      <th>0</th>\n",
       "      <td>2020-01-31</td>\n",
       "      <td>END</td>\n",
       "      <td>200</td>\n",
       "      <td>300</td>\n",
       "      <td>0.4122</td>\n",
       "    </tr>\n",
       "  </tbody>\n",
       "</table>\n",
       "</div>"
      ],
      "text/plain": [
       "  start date end date  wealth(start)  wealth(end)  Probability\n",
       "0 2020-01-31      END            200          300       0.4122"
      ]
     },
     "execution_count": 27,
     "metadata": {},
     "output_type": "execute_result"
    }
   ],
   "source": [
    "start_idx = rebal_dates.get_loc(rebal_dates[rebal_dates > '2020-1'][0])\n",
    "model.evaluate(goals=300, init_wealth=200, start_idx=start_idx, end_idx=-1, decimal=4)"
   ]
  },
  {
   "cell_type": "markdown",
   "id": "ad304cd5",
   "metadata": {},
   "source": [
    "- The probability is evaluated to 41.22%"
   ]
  },
  {
   "cell_type": "markdown",
   "id": "e9b80c94",
   "metadata": {},
   "source": [
    "## Case 3"
   ]
  },
  {
   "cell_type": "markdown",
   "id": "0e9c4577",
   "metadata": {},
   "source": [
    "- An investor wants to know the probability that the wealth, which was 200 in January 2020, will be 220 or 250 in December 2021"
   ]
  },
  {
   "cell_type": "code",
   "execution_count": 29,
   "id": "b04a4cf2",
   "metadata": {},
   "outputs": [
    {
     "data": {
      "text/html": [
       "<div>\n",
       "<style scoped>\n",
       "    .dataframe tbody tr th:only-of-type {\n",
       "        vertical-align: middle;\n",
       "    }\n",
       "\n",
       "    .dataframe tbody tr th {\n",
       "        vertical-align: top;\n",
       "    }\n",
       "\n",
       "    .dataframe thead th {\n",
       "        text-align: right;\n",
       "    }\n",
       "</style>\n",
       "<table border=\"1\" class=\"dataframe\">\n",
       "  <thead>\n",
       "    <tr style=\"text-align: right;\">\n",
       "      <th></th>\n",
       "      <th>start date</th>\n",
       "      <th>end date</th>\n",
       "      <th>wealth(start)</th>\n",
       "      <th>wealth(end)</th>\n",
       "      <th>Probability</th>\n",
       "    </tr>\n",
       "  </thead>\n",
       "  <tbody>\n",
       "    <tr>\n",
       "      <th>0</th>\n",
       "      <td>2020-01-31</td>\n",
       "      <td>2021-12-31</td>\n",
       "      <td>200</td>\n",
       "      <td>220</td>\n",
       "      <td>0.5606</td>\n",
       "    </tr>\n",
       "    <tr>\n",
       "      <th>1</th>\n",
       "      <td>2020-01-31</td>\n",
       "      <td>2021-12-31</td>\n",
       "      <td>200</td>\n",
       "      <td>250</td>\n",
       "      <td>0.3607</td>\n",
       "    </tr>\n",
       "  </tbody>\n",
       "</table>\n",
       "</div>"
      ],
      "text/plain": [
       "  start date   end date  wealth(start)  wealth(end)  Probability\n",
       "0 2020-01-31 2021-12-31            200          220       0.5606\n",
       "1 2020-01-31 2021-12-31            200          250       0.3607"
      ]
     },
     "execution_count": 29,
     "metadata": {},
     "output_type": "execute_result"
    }
   ],
   "source": [
    "start_idx = rebal_dates.get_loc(rebal_dates[rebal_dates > '2020-1'][0])\n",
    "end_idx = rebal_dates.get_loc(rebal_dates[rebal_dates > '2021-12'][0])\n",
    "model.evaluate(goals=[220, 250], init_wealth=200, start_idx=start_idx, end_idx=end_idx, decimal=4)"
   ]
  }
 ],
 "metadata": {
  "kernelspec": {
   "display_name": "Python 3 (ipykernel)",
   "language": "python",
   "name": "python3"
  },
  "language_info": {
   "codemirror_mode": {
    "name": "ipython",
    "version": 3
   },
   "file_extension": ".py",
   "mimetype": "text/x-python",
   "name": "python",
   "nbconvert_exporter": "python",
   "pygments_lexer": "ipython3",
   "version": "3.10.14"
  }
 },
 "nbformat": 4,
 "nbformat_minor": 5
}

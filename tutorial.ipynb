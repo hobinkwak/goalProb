{
 "cells": [
  {
   "cell_type": "markdown",
   "id": "76de8bcc",
   "metadata": {},
   "source": [
    "# import"
   ]
  },
  {
   "cell_type": "code",
   "execution_count": 25,
   "id": "43c42696",
   "metadata": {},
   "outputs": [],
   "source": [
    "import pandas as pd\n",
    "import numpy as np\n",
    "from model import GoalProbEvaluator\n",
    "import yfinance as yf\n",
    "\n",
    "from utils import get_eom_dates"
   ]
  },
  {
   "cell_type": "markdown",
   "id": "4e78dda6",
   "metadata": {},
   "source": [
    "# All Weather Portfolio"
   ]
  },
  {
   "cell_type": "code",
   "execution_count": 26,
   "id": "aeeb9da5",
   "metadata": {},
   "outputs": [
    {
     "name": "stdout",
     "output_type": "stream",
     "text": [
      "[*********************100%***********************]  5 of 5 completed\n"
     ]
    }
   ],
   "source": [
    "# ALL WEATHER PORTFOLIO (MONTHLY REBALANCED)\n",
    "df = yf.download(['SPY', 'TLT', 'IEF', 'GLD', 'DBC'])['Adj Close'].dropna()\n",
    "rtns = np.log(df / df.shift(1)).fillna(0)\n",
    "\n",
    "rebal_dates = get_eom_dates(rtns, start='2008-1-1', end='2024-6-30')\n",
    "weights = pd.DataFrame(np.array([[0.3, 0.4, 0.15, 0.075, 0.075]] * len(rebal_dates)), columns=rtns.columns,\n",
    "                       index=rebal_dates)"
   ]
  },
  {
   "cell_type": "markdown",
   "id": "6b75b8d8",
   "metadata": {},
   "source": [
    "# Config"
   ]
  },
  {
   "cell_type": "markdown",
   "id": "9823442b",
   "metadata": {},
   "source": [
    "- initial_W : Initial capital\n",
    "\n",
    "\n",
    "- T : Number of rebalancing times\n",
    "\n",
    "\n",
    "- h : 1 if yearly, 1/4 if quarterly, 1/12 if monthly\n",
    "\n",
    "\n",
    "- rho : The range of Wealth to be generated\n",
    "    - The higher the rho value, the lower the probability of generating such Wealth (e.g., 3sigma, 4sigma, ...)\n",
    "    \n",
    "    \n",
    "- bankrupt : The level of Wealth considered to be practical bankruptcy\n",
    "\n",
    "\n",
    "- imax : The number of Wealth to be generated at each time point (T=t)\n",
    "    -The more there are, the longer the optimization time\n",
    "    \n",
    "    \n",
    "- lb:  Lower bound for each asset\n",
    "\n",
    "\n",
    "- ub:  Upper bound for each asset"
   ]
  },
  {
   "cell_type": "code",
   "execution_count": 27,
   "id": "879675d7",
   "metadata": {},
   "outputs": [],
   "source": [
    "# INITIALIZE CONFIG\n",
    "config = {\n",
    "    'initial_W': 100,\n",
    "    'T': len(weights.index),\n",
    "    'bankrupt': 5,  # bankruptcy level\n",
    "    'h': 1 / 12,  # monthly / if you want to calculate quarterly, set it to 1 / 4\n",
    "    'imax': 1000,\n",
    "    'rho': 2.5,   # a scale parameter\n",
    "    'lb': [0.25, 0.35, 0.10, 0.025, 0.025],  # A little buffer\n",
    "    'ub': [0.35, 0.45, 0.20, 0.125, 0.125]\n",
    "}"
   ]
  },
  {
   "cell_type": "markdown",
   "id": "3aa6e0a4",
   "metadata": {},
   "source": [
    "- er_method: method for estimating expected returns of assets\n",
    "- cov_method: method for estimating Covariances\n",
    "- window: window size"
   ]
  },
  {
   "cell_type": "code",
   "execution_count": 28,
   "id": "48b9c1db",
   "metadata": {},
   "outputs": [],
   "source": [
    "est_config = {\n",
    "    'er_method': 'bayes_stein',\n",
    "    'cov_method': 'rmt',\n",
    "    'window': 252 * 30\n",
    "}"
   ]
  },
  {
   "cell_type": "markdown",
   "id": "ca2133dc",
   "metadata": {},
   "source": [
    "# CashFlows"
   ]
  },
  {
   "cell_type": "code",
   "execution_count": 29,
   "id": "3aa6ef80",
   "metadata": {},
   "outputs": [],
   "source": [
    "# Include the scheduled cash flows\n",
    "cashflows = np.ones((config[\"T\"],)) * 0"
   ]
  },
  {
   "cell_type": "markdown",
   "id": "1485cd89",
   "metadata": {},
   "source": [
    "# Run"
   ]
  },
  {
   "cell_type": "code",
   "execution_count": 30,
   "id": "a68bb3cc",
   "metadata": {},
   "outputs": [
    {
     "name": "stdout",
     "output_type": "stream",
     "text": [
      "********************\n",
      "WEALTH STATES GENERATED\n",
      "********************\n",
      "********************\n",
      "PATHS GENERATED\n",
      "********************\n",
      "Expected Wealth: 100.0 -> 101.1606 -> 102.4545 -> 103.6179 -> 104.6663 -> 105.7394 -> 106.9825 -> 107.9407 -> 108.6719 -> 109.2071 -> 109.136 -> 109.1787 -> 109.3727 -> 109.5756 -> 109.8168 -> 110.111 -> 110.4498 -> 110.9667 -> 111.4911 -> 112.0191 -> 112.6325 -> 113.2574 -> 114.0 -> 114.8832 -> 115.6424 -> 116.3243 -> 117.0264 -> 117.7378 -> 118.5694 -> 119.3648 -> 120.1654 -> 120.9526 -> 121.826 -> 122.8405 -> 123.8838 -> 124.9166 -> 125.9992 -> 127.0321 -> 128.1669 -> 129.3012 -> 130.5697 -> 131.8007 -> 132.9707 -> 134.231 -> 135.6226 -> 136.8005 -> 138.0691 -> 139.2868 -> 140.4072 -> 141.6723 -> 142.9968 -> 144.2012 -> 145.4309 -> 146.5224 -> 147.6028 -> 148.8072 -> 150.0432 -> 151.3257 -> 152.5184 -> 153.739 -> 154.9053 -> 156.093 -> 157.2211 -> 158.3837 -> 159.5037 -> 160.5548 -> 161.4366 -> 162.4194 -> 163.4494 -> 164.422 -> 165.4239 -> 166.3502 -> 167.2731 -> 168.2226 -> 169.2802 -> 170.3126 -> 171.3672 -> 172.4207 -> 173.5185 -> 174.5748 -> 175.6442 -> 176.6257 -> 177.582 -> 178.5238 -> 179.3984 -> 180.2851 -> 181.1698 -> 182.0154 -> 182.8913 -> 183.7354 -> 184.5626 -> 185.2898 -> 186.0133 -> 186.7208 -> 187.4592 -> 188.1063 -> 188.7179 -> 189.3471 -> 190.0673 -> 190.8369 -> 191.6923 -> 192.535 -> 193.483 -> 194.3964 -> 195.3204 -> 196.2613 -> 197.1564 -> 197.9654 -> 198.8054 -> 199.6685 -> 200.5859 -> 201.479 -> 202.3859 -> 203.3007 -> 204.1808 -> 205.1074 -> 206.0573 -> 207.017 -> 207.9949 -> 208.9946 -> 210.0212 -> 211.0827 -> 212.1001 -> 213.1204 -> 214.1593 -> 215.2263 -> 216.2514 -> 217.2687 -> 218.2877 -> 219.3056 -> 220.3009 -> 221.2466 -> 222.1973 -> 223.2271 -> 224.282 -> 225.3446 -> 226.4117 -> 227.4798 -> 228.6244 -> 229.7721 -> 230.9744 -> 232.1553 -> 233.3506 -> 234.5351 -> 235.7718 -> 237.0043 -> 238.2369 -> 239.3932 -> 240.5712 -> 241.7963 -> 243.0959 -> 244.5021 -> 245.9555 -> 247.3662 -> 248.7481 -> 250.1754 -> 251.6671 -> 253.1569 -> 254.6634 -> 256.1182 -> 257.6723 -> 259.2902 -> 260.9007 -> 262.5631 -> 264.2094 -> 265.8415 -> 267.5515 -> 269.2164 -> 270.9298 -> 272.6445 -> 274.3961 -> 276.2246 -> 278.0262 -> 279.8226 -> 281.5493 -> 283.2925 -> 285.0161 -> 286.6127 -> 288.2199 -> 289.8662 -> 291.5089 -> 293.2183 -> 294.8722 -> 296.582 -> 298.3018 -> 299.9952 -> 301.6682 -> 303.4148 -> 305.1456 -> 306.8184 -> 308.4775 -> 310.2145 -> 311.9608 -> 313.7064 -> 315.4487 -> 317.2686 -> 319.1278 -> 321.0092 -> 322.9163\n",
      "\n"
     ]
    }
   ],
   "source": [
    "model = GoalProbEvaluator(rtns, weights, config, est_config)\n",
    "model.add_cashflow(cashflows)\n",
    "\n",
    "model.fit(fit_dist=True, display_result=True)"
   ]
  },
  {
   "cell_type": "markdown",
   "id": "dcb2e693",
   "metadata": {},
   "source": [
    "# Evaluate"
   ]
  },
  {
   "cell_type": "markdown",
   "id": "06e223b6",
   "metadata": {},
   "source": [
    "- evaluate() arguments\n",
    "    - goals: scalar if single goal, iterable objects(e.g. tuple, list, etc.) if multi goals\n",
    "    - init_wealth: wealth value at start_idx (efault value is None, which means config['initial_W'])\n",
    "    - start_idx: index value of the datetime at which the probability is calculated (default value is 0)\n",
    "    - end_idx: index value of the datetime at which the goals are expected to achieve ((default value is -1)"
   ]
  },
  {
   "cell_type": "markdown",
   "id": "affbd62a",
   "metadata": {},
   "source": [
    "## Case 1"
   ]
  },
  {
   "cell_type": "markdown",
   "id": "9ba7e4ab",
   "metadata": {},
   "source": [
    "- An investor wants to know the probability that the wealth, which was 100(default) in the very beginning, will be greater than 300 at the final datetime"
   ]
  },
  {
   "cell_type": "code",
   "execution_count": 32,
   "id": "97e27d8a",
   "metadata": {},
   "outputs": [
    {
     "data": {
      "text/html": [
       "<div>\n",
       "<style scoped>\n",
       "    .dataframe tbody tr th:only-of-type {\n",
       "        vertical-align: middle;\n",
       "    }\n",
       "\n",
       "    .dataframe tbody tr th {\n",
       "        vertical-align: top;\n",
       "    }\n",
       "\n",
       "    .dataframe thead th {\n",
       "        text-align: right;\n",
       "    }\n",
       "</style>\n",
       "<table border=\"1\" class=\"dataframe\">\n",
       "  <thead>\n",
       "    <tr style=\"text-align: right;\">\n",
       "      <th></th>\n",
       "      <th>start date</th>\n",
       "      <th>end date</th>\n",
       "      <th>wealth(start)</th>\n",
       "      <th>wealth(end)</th>\n",
       "      <th>Probability</th>\n",
       "    </tr>\n",
       "  </thead>\n",
       "  <tbody>\n",
       "    <tr>\n",
       "      <th>0</th>\n",
       "      <td>2008-01-31</td>\n",
       "      <td>END</td>\n",
       "      <td>100</td>\n",
       "      <td>200</td>\n",
       "      <td>0.7116</td>\n",
       "    </tr>\n",
       "  </tbody>\n",
       "</table>\n",
       "</div>"
      ],
      "text/plain": [
       "  start date end date  wealth(start)  wealth(end)  Probability\n",
       "0 2008-01-31      END            100          200       0.7116"
      ]
     },
     "execution_count": 32,
     "metadata": {},
     "output_type": "execute_result"
    }
   ],
   "source": [
    "model.evaluate(goals=200)"
   ]
  },
  {
   "cell_type": "markdown",
   "id": "261739be",
   "metadata": {},
   "source": [
    "- The probability is evaluated to 47.73%"
   ]
  },
  {
   "cell_type": "markdown",
   "id": "92126ac4",
   "metadata": {},
   "source": [
    "## Case 2"
   ]
  },
  {
   "cell_type": "markdown",
   "id": "ba705696",
   "metadata": {},
   "source": [
    "- An investor wants to know the probability that the wealth, which was 200 in January 2020, will be greater than 300 at the final datetime"
   ]
  },
  {
   "cell_type": "code",
   "execution_count": 23,
   "id": "97c37b76",
   "metadata": {},
   "outputs": [
    {
     "data": {
      "text/html": [
       "<div>\n",
       "<style scoped>\n",
       "    .dataframe tbody tr th:only-of-type {\n",
       "        vertical-align: middle;\n",
       "    }\n",
       "\n",
       "    .dataframe tbody tr th {\n",
       "        vertical-align: top;\n",
       "    }\n",
       "\n",
       "    .dataframe thead th {\n",
       "        text-align: right;\n",
       "    }\n",
       "</style>\n",
       "<table border=\"1\" class=\"dataframe\">\n",
       "  <thead>\n",
       "    <tr style=\"text-align: right;\">\n",
       "      <th></th>\n",
       "      <th>start date</th>\n",
       "      <th>end date</th>\n",
       "      <th>wealth(start)</th>\n",
       "      <th>wealth(end)</th>\n",
       "      <th>Probability</th>\n",
       "    </tr>\n",
       "  </thead>\n",
       "  <tbody>\n",
       "    <tr>\n",
       "      <th>0</th>\n",
       "      <td>2020-01-31</td>\n",
       "      <td>END</td>\n",
       "      <td>200</td>\n",
       "      <td>300</td>\n",
       "      <td>0.439</td>\n",
       "    </tr>\n",
       "  </tbody>\n",
       "</table>\n",
       "</div>"
      ],
      "text/plain": [
       "  start date end date  wealth(start)  wealth(end)  Probability\n",
       "0 2020-01-31      END            200          300        0.439"
      ]
     },
     "execution_count": 23,
     "metadata": {},
     "output_type": "execute_result"
    }
   ],
   "source": [
    "start_idx = rebal_dates.get_loc(rebal_dates[rebal_dates > '2020-1'][0])\n",
    "model.evaluate(goals=300, init_wealth=200, start_idx=start_idx, end_idx=-1, decimal=4)"
   ]
  },
  {
   "cell_type": "markdown",
   "id": "ad304cd5",
   "metadata": {},
   "source": [
    "- The probability is evaluated to 41.22%"
   ]
  },
  {
   "cell_type": "markdown",
   "id": "e9b80c94",
   "metadata": {},
   "source": [
    "## Case 3"
   ]
  },
  {
   "cell_type": "markdown",
   "id": "0e9c4577",
   "metadata": {},
   "source": [
    "- An investor wants to know the probability that the wealth, which was 200 in January 2020, will be greater than 220 or 250 in December 2021"
   ]
  },
  {
   "cell_type": "code",
   "execution_count": 38,
   "id": "b04a4cf2",
   "metadata": {},
   "outputs": [
    {
     "data": {
      "text/html": [
       "<div>\n",
       "<style scoped>\n",
       "    .dataframe tbody tr th:only-of-type {\n",
       "        vertical-align: middle;\n",
       "    }\n",
       "\n",
       "    .dataframe tbody tr th {\n",
       "        vertical-align: top;\n",
       "    }\n",
       "\n",
       "    .dataframe thead th {\n",
       "        text-align: right;\n",
       "    }\n",
       "</style>\n",
       "<table border=\"1\" class=\"dataframe\">\n",
       "  <thead>\n",
       "    <tr style=\"text-align: right;\">\n",
       "      <th></th>\n",
       "      <th>start date</th>\n",
       "      <th>end date</th>\n",
       "      <th>wealth(start)</th>\n",
       "      <th>wealth(end)</th>\n",
       "      <th>Probability</th>\n",
       "    </tr>\n",
       "  </thead>\n",
       "  <tbody>\n",
       "    <tr>\n",
       "      <th>0</th>\n",
       "      <td>2020-01-31</td>\n",
       "      <td>2021-12-31</td>\n",
       "      <td>100</td>\n",
       "      <td>120</td>\n",
       "      <td>0.4434</td>\n",
       "    </tr>\n",
       "    <tr>\n",
       "      <th>1</th>\n",
       "      <td>2020-01-31</td>\n",
       "      <td>2021-12-31</td>\n",
       "      <td>100</td>\n",
       "      <td>150</td>\n",
       "      <td>0.1866</td>\n",
       "    </tr>\n",
       "  </tbody>\n",
       "</table>\n",
       "</div>"
      ],
      "text/plain": [
       "  start date   end date  wealth(start)  wealth(end)  Probability\n",
       "0 2020-01-31 2021-12-31            100          120       0.4434\n",
       "1 2020-01-31 2021-12-31            100          150       0.1866"
      ]
     },
     "execution_count": 38,
     "metadata": {},
     "output_type": "execute_result"
    }
   ],
   "source": [
    "start_idx = rebal_dates.get_loc(rebal_dates[rebal_dates > '2020-1'][0])\n",
    "end_idx = rebal_dates.get_loc(rebal_dates[rebal_dates > '2021-12'][0])\n",
    "model.evaluate(goals=[220, 250], init_wealth=200, start_idx=start_idx, end_idx=end_idx, decimal=4)"
   ]
  }
 ],
 "metadata": {
  "kernelspec": {
   "display_name": "Python 3 (ipykernel)",
   "language": "python",
   "name": "python3"
  },
  "language_info": {
   "codemirror_mode": {
    "name": "ipython",
    "version": 3
   },
   "file_extension": ".py",
   "mimetype": "text/x-python",
   "name": "python",
   "nbconvert_exporter": "python",
   "pygments_lexer": "ipython3",
   "version": "3.10.14"
  }
 },
 "nbformat": 4,
 "nbformat_minor": 5
}
